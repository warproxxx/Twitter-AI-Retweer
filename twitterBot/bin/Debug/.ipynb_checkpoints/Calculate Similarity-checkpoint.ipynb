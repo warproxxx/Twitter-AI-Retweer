{
 "cells": [
  {
   "cell_type": "code",
   "execution_count": 7,
   "metadata": {},
   "outputs": [],
   "source": [
    "#requirements: pyemd, gensim, pandas, numpy\n",
    "from gensim.models import Word2Vec\n",
    "from gensim.models import KeyedVectors\n",
    "import pandas as pd\n",
    "import re\n",
    "\n",
    "model = KeyedVectors.load_word2vec_format(\"E:\\Glove Vector\\glove.twitter.27B\\glove.twitter.27B.100d.word2vec.txt\", binary=False)\n",
    "\n",
    "def cleanData(tweet):\n",
    "    patterns = [\n",
    "                'RT ', #RT text\n",
    "                #'(?:\\#+[\\w_]+[\\w\\'_\\-]*[\\w_]+)', #hashtags\n",
    "                '(?:@[\\w_]+)',  # @-mentions\n",
    "                'http[s]?://(?:[a-z]|[0-9]|[$-_@.&amp;+]|[!*\\(\\),]|(?:%[0-9a-f][0-9a-f]))+',  # URLs'\n",
    "                '([^a-zA-Z ]+?)',\n",
    "                'b '#anything else except text\n",
    "                ]\n",
    "\n",
    "    sub_pattern = re.compile('|'.join(patterns))\n",
    "    \n",
    "    if isinstance(tweet, pd.Series):\n",
    "        return tweet.str.replace(sub_pattern, '').str.strip()\n",
    "    else:\n",
    "        return re.sub(sub_pattern, '', tweet).strip()"
   ]
  },
  {
   "cell_type": "code",
   "execution_count": 24,
   "metadata": {},
   "outputs": [],
   "source": [
    "#check if a.csv exist\n",
    "\n",
    "df = pd.read_csv('a.csv')\n",
    "df['2'] = df['2'].apply(lambda x: x[1:] if x[:1] == 'b' else x)\n",
    "df['2'] = df['2'].apply(lambda x: x[1:] if x[:2] == ' ' else x)\n",
    "df['2'] = df['2'].apply(cleanData)\n",
    "\n",
    "distances = []\n",
    "\n",
    "realTweet = 'We are selling baseball gloves'\n",
    "\n",
    "for tweet in df['2']:\n",
    "    distances.append(model.wmdistance(realTweet, tweet))\n",
    "\n",
    "    \n",
    "high = pd.DataFrame(columns=['ID', 'Timestamp', 'Tweet'])\n",
    "medium = pd.DataFrame(columns=high.columns)\n",
    "low = pd.DataFrame(columns=medium.columns)\n",
    "\n",
    "for i, distance in enumerate(distances):\n",
    "    #print(distance)\n",
    "    \n",
    "    if (distance > 2.5):\n",
    "        high = high.append({'ID': df.iloc[i]['0'], 'Timestamp': df.iloc[i]['1'], 'Tweet': df.iloc[i]['2']}, ignore_index=True)\n",
    "        medium = medium.append({'ID': df.iloc[i]['0'], 'Timestamp': df.iloc[i]['1'], 'Tweet': df.iloc[i]['2']}, ignore_index=True)\n",
    "        low = low.append({'ID': df.iloc[i]['0'], 'Timestamp': df.iloc[i]['1'], 'Tweet': df.iloc[i]['2']}, ignore_index=True)\n",
    "    if (distance > 2):\n",
    "        medium = medium.append({'ID': df.iloc[i]['0'], 'Timestamp': df.iloc[i]['1'], 'Tweet': df.iloc[i]['2']}, ignore_index=True)\n",
    "        low = low.append({'ID': df.iloc[i]['0'], 'Timestamp': df.iloc[i]['1'], 'Tweet': df.iloc[i]['2']}, ignore_index=True)\n",
    "    else:\n",
    "        low = low.append({'ID': df.iloc[i]['0'], 'Timestamp': df.iloc[i]['1'], 'Tweet': df.iloc[i]['2']}, ignore_index=True)\n",
    "\n",
    "#save high, medium, low and remove a.csv"
   ]
  },
  {
   "cell_type": "code",
   "execution_count": 27,
   "metadata": {},
   "outputs": [
    {
     "name": "stdout",
     "output_type": "stream",
     "text": [
      "(9, 3)\n",
      "(41, 3)\n",
      "(109, 3)\n"
     ]
    }
   ],
   "source": [
    "print(high.shape)\n",
    "print(medium.shape)\n",
    "print(low.shape)"
   ]
  },
  {
   "cell_type": "code",
   "execution_count": 8,
   "metadata": {},
   "outputs": [
    {
     "name": "stdout",
     "output_type": "stream",
     "text": [
      "2018-04-04\n",
      "2018-04-03 07:24:09.227998\n"
     ]
    }
   ],
   "source": [
    "from datetime import datetime, timedelta\n",
    "\n",
    "print(datetime.today().strftime('%Y-%m-%d'))\n",
    "print((datetime.today() - timedelta(days=1))  )"
   ]
  },
  {
   "cell_type": "code",
   "execution_count": null,
   "metadata": {},
   "outputs": [],
   "source": []
  }
 ],
 "metadata": {
  "kernelspec": {
   "display_name": "Python 3",
   "language": "python",
   "name": "python3"
  },
  "language_info": {
   "codemirror_mode": {
    "name": "ipython",
    "version": 3
   },
   "file_extension": ".py",
   "mimetype": "text/x-python",
   "name": "python",
   "nbconvert_exporter": "python",
   "pygments_lexer": "ipython3",
   "version": "3.6.1"
  }
 },
 "nbformat": 4,
 "nbformat_minor": 2
}
